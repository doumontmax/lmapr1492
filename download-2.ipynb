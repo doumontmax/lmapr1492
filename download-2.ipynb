{
 "cells": [
  {
   "cell_type": "code",
   "execution_count": 13,
   "metadata": {},
   "outputs": [],
   "source": [
    "from pymatgen.ext.matproj import MPRester \n",
    "from pymatgen.io.cif import CifWriter\n",
    "with MPRester(\"N7ufawmcbIbaWNUI5qt\") as m:\n",
    "     \n",
    "     # Obtenir la structure à partir du Materials Project Id\n",
    "     structure = m.get_structure_by_material_id(\"mp-8880\")\n",
    "        \n",
    "     # Ecrire un fichier cif \n",
    "     w = CifWriter(structure) \n",
    "     w.write_file('mp8880.cif') "
   ]
  },
  {
   "cell_type": "code",
   "execution_count": 2,
   "metadata": {},
   "outputs": [
    {
     "name": "stdout",
     "output_type": "stream",
     "text": [
      "Références :\n",
      "------------\n",
      "* Pymatgen : https://pymatgen.org/usage.html?fbclid=IwAR2AnLq_gW-VnqEG7-i42wszUE8sytOJDK790cZQnyq8xfKaoVxDYFml04o#pymatgen-matproj-rest-integration-with-the-materials-project-rest-api\n",
      "\n"
     ]
    }
   ],
   "source": [
    "print(\"Références :\")\n",
    "print(\"------------\")\n",
    "\n",
    "print(\"* Pymatgen : https://pymatgen.org/usage.html?fbclid=IwAR2AnLq_gW-VnqEG7-i42wszUE8sytOJDK790cZQnyq8xfKaoVxDYFml04o#pymatgen-matproj-rest-integration-with-the-materials-project-rest-api\")\n",
    "print(\"\")"
   ]
  },
  {
   "cell_type": "code",
   "execution_count": null,
   "metadata": {},
   "outputs": [],
   "source": []
  }
 ],
 "metadata": {
  "kernelspec": {
   "display_name": "Python 3",
   "language": "python",
   "name": "python3"
  },
  "language_info": {
   "codemirror_mode": {
    "name": "ipython",
    "version": 3
   },
   "file_extension": ".py",
   "mimetype": "text/x-python",
   "name": "python",
   "nbconvert_exporter": "python",
   "pygments_lexer": "ipython3",
   "version": "3.6.8"
  }
 },
 "nbformat": 4,
 "nbformat_minor": 2
}
