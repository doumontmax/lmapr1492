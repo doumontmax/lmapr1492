{
 "cells": [
  {
   "cell_type": "code",
   "execution_count": 4,
   "metadata": {},
   "outputs": [
    {
     "name": "stdout",
     "output_type": "stream",
     "text": [
      "[Rot:\n",
      "[[1. 0. 0.]\n",
      " [0. 1. 0.]\n",
      " [0. 0. 1.]]\n",
      "tau\n",
      "[0. 0. 0.], Rot:\n",
      "[[ 1. -1.  0.]\n",
      " [ 1.  0.  0.]\n",
      " [ 0.  0.  1.]]\n",
      "tau\n",
      "[0.  0.  0.5], Rot:\n",
      "[[ 0. -1.  0.]\n",
      " [ 1. -1.  0.]\n",
      " [ 0.  0.  1.]]\n",
      "tau\n",
      "[0. 0. 0.], Rot:\n",
      "[[-1.  0.  0.]\n",
      " [ 0. -1.  0.]\n",
      " [ 0.  0.  1.]]\n",
      "tau\n",
      "[0.  0.  0.5], Rot:\n",
      "[[-1.  1.  0.]\n",
      " [-1.  0.  0.]\n",
      " [ 0.  0.  1.]]\n",
      "tau\n",
      "[0. 0. 0.], Rot:\n",
      "[[ 0.  1.  0.]\n",
      " [-1.  1.  0.]\n",
      " [ 0.  0.  1.]]\n",
      "tau\n",
      "[0.  0.  0.5], Rot:\n",
      "[[0. 1. 0.]\n",
      " [1. 0. 0.]\n",
      " [0. 0. 1.]]\n",
      "tau\n",
      "[0.  0.  0.5], Rot:\n",
      "[[ 1.  0.  0.]\n",
      " [ 1. -1.  0.]\n",
      " [ 0.  0.  1.]]\n",
      "tau\n",
      "[0. 0. 0.], Rot:\n",
      "[[ 1. -1.  0.]\n",
      " [ 0. -1.  0.]\n",
      " [ 0.  0.  1.]]\n",
      "tau\n",
      "[0.  0.  0.5], Rot:\n",
      "[[ 0. -1.  0.]\n",
      " [-1.  0.  0.]\n",
      " [ 0.  0.  1.]]\n",
      "tau\n",
      "[0. 0. 0.], Rot:\n",
      "[[-1.  0.  0.]\n",
      " [-1.  1.  0.]\n",
      " [ 0.  0.  1.]]\n",
      "tau\n",
      "[0.  0.  0.5], Rot:\n",
      "[[-1.  1.  0.]\n",
      " [ 0.  1.  0.]\n",
      " [ 0.  0.  1.]]\n",
      "tau\n",
      "[0. 0. 0.]]\n"
     ]
    }
   ],
   "source": [
    "from pymatgen.ext.matproj import MPRester\n",
    "from pymatgen.io.cif import CifWriter\n",
    "from pymatgen.symmetry.analyzer import SpacegroupAnalyzer \n",
    "\n",
    "with MPRester(\"N7ufawmcbIbaWNUI5qt\") as m:\n",
    "     structure = m.get_structure_by_material_id(\"mp-8880\")\n",
    "     w = CifWriter(structure) \n",
    "     w.write_file('mp8880.cif') \n",
    "        \n",
    "SGAnalyser = SpacegroupAnalyzer(structure) \n",
    "sym = SGAnalyser.get_symmetry_dataset()\n",
    "op = SGAnalyser.get_symmetry_operations()\n",
    "\n",
    "#print(sym)\n",
    "print(op)\n"
   ]
  },
  {
   "cell_type": "code",
   "execution_count": null,
   "metadata": {},
   "outputs": [],
   "source": []
  }
 ],
 "metadata": {
  "kernelspec": {
   "display_name": "Python 3",
   "language": "python",
   "name": "python3"
  },
  "language_info": {
   "codemirror_mode": {
    "name": "ipython",
    "version": 3
   },
   "file_extension": ".py",
   "mimetype": "text/x-python",
   "name": "python",
   "nbconvert_exporter": "python",
   "pygments_lexer": "ipython3",
   "version": "3.6.8"
  }
 },
 "nbformat": 4,
 "nbformat_minor": 2
}
