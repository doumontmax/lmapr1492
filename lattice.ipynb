{
 "cells": [
  {
   "cell_type": "code",
   "execution_count": 16,
   "metadata": {},
   "outputs": [
    {
     "name": "stdout",
     "output_type": "stream",
     "text": [
      "3.885548 0.000000 0.000000\n",
      "-1.942774 3.364984 0.000000\n",
      "0.000000 0.000000 6.381572\n",
      "(3.88554844, 3.8855484428795384, 6.38157202)\n",
      "1.617065 0.933613 0.000000\n",
      "0.000000 1.867226 0.000000\n",
      "0.000000 0.000000 0.984583\n",
      "(1.86722609875496, 1.8672260973711787, 0.9845826839355465)\n",
      "hexagonal\n",
      "hexagonal\n",
      "6mm\n"
     ]
    }
   ],
   "source": [
    "from pymatgen.ext.matproj import MPRester\n",
    "from pymatgen.io.cif import CifWriter\n",
    "from pymatgen.symmetry.analyzer import SpacegroupAnalyzer \n",
    "\n",
    "with MPRester(\"N7ufawmcbIbaWNUI5qt\") as m:\n",
    "     structure = m.get_structure_by_material_id(\"mp-8880\")\n",
    "     w = CifWriter(structure) \n",
    "     w.write_file('mp8880.cif') \n",
    "\n",
    "vect_res_direct = structure.lattice\n",
    "length_vect_res_direct = vect_res_direct.abc\n",
    "vect_res_recip = structure.lattice.reciprocal_lattice \n",
    "length_vect_res_recip = vect_res_recip.abc\n",
    "        \n",
    "SGAnalyser = SpacegroupAnalyzer(structure) \n",
    "type_maille = SGAnalyser.get_lattice_type()\n",
    "syst_cristal = SGAnalyser.get_crystal_system() \n",
    "group_ponctuel = SGAnalyser.get_point_group_symbol()\n",
    "\n",
    "\n",
    "print(vect_res_direct)\n",
    "print(length_vect_res_direct)\n",
    "print(vect_res_recip)\n",
    "print(length_vect_res_recip)\n",
    "print(type_maille)\n",
    "print(syst_cristal)\n",
    "print(group_ponctuel) \n",
    "    "
   ]
  },
  {
   "cell_type": "code",
   "execution_count": null,
   "metadata": {},
   "outputs": [],
   "source": []
  },
  {
   "cell_type": "code",
   "execution_count": null,
   "metadata": {},
   "outputs": [],
   "source": []
  }
 ],
 "metadata": {
  "kernelspec": {
   "display_name": "Python 3",
   "language": "python",
   "name": "python3"
  },
  "language_info": {
   "codemirror_mode": {
    "name": "ipython",
    "version": 3
   },
   "file_extension": ".py",
   "mimetype": "text/x-python",
   "name": "python",
   "nbconvert_exporter": "python",
   "pygments_lexer": "ipython3",
   "version": "3.6.8"
  }
 },
 "nbformat": 4,
 "nbformat_minor": 2
}
