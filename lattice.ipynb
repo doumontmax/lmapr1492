{
 "cells": [
  {
   "cell_type": "code",
   "execution_count": 8,
   "metadata": {},
   "outputs": [
    {
     "name": "stdout",
     "output_type": "stream",
     "text": [
      "Les vecteurs de bases du réseau direct a,b,c sont :\n",
      "3.885548 0.000000 0.000000\n",
      "-1.942774 3.364984 0.000000\n",
      "0.000000 0.000000 6.381572\n",
      "\n",
      "Les longueurs des vecteurs de bases du réseau direct sont (en Å):\n",
      "(3.88554844, 3.8855484428795384, 6.38157202)\n",
      "\n",
      "Les vecteurs de bases du réseau réciproque a*, b*, c* sont :\n",
      "1.617065 0.933613 0.000000\n",
      "0.000000 1.867226 0.000000\n",
      "0.000000 0.000000 0.984583\n",
      "\n",
      "Les longueurs des vecteurs de bases du réseau réciproque sont (en Å):\n",
      "(1.86722609875496, 1.8672260973711787, 0.9845826839355465)\n",
      "\n",
      "Le type de maille est : hexagonal\n",
      "\n",
      "Le système cristallin est : hexagonal\n",
      "\n",
      "Le groupe ponctuel est : 6mm\n",
      "\n",
      "Ces résultats peuvent être vérifié sur  : Materials Project - https://materialsproject.org/materials/mp-8880/ \n"
     ]
    }
   ],
   "source": [
    "from pymatgen.ext.matproj import MPRester\n",
    "from pymatgen.io.cif import CifWriter\n",
    "from pymatgen.symmetry.analyzer import SpacegroupAnalyzer \n",
    "\n",
    "with MPRester(\"N7ufawmcbIbaWNUI5qt\") as m:\n",
    "     \n",
    "     # Obtenir la structure à partir du Materials Project Id\n",
    "     structure = m.get_structure_by_material_id(\"mp-8880\")\n",
    "        \n",
    "     # Ecrire un fichier cif \n",
    "     w = CifWriter(structure) \n",
    "     w.write_file('mp8880.cif') \n",
    "\n",
    "\n",
    "# Obtenir les vecteurs de bases du réseau direct\n",
    "vect_res_direct = structure.lattice\n",
    "length_vect_res_direct = vect_res_direct.abc\n",
    "\n",
    "# Obtenir les vecteurs de bases du réseau réciproque \n",
    "vect_res_recip = structure.lattice.reciprocal_lattice \n",
    "length_vect_res_recip = vect_res_recip.abc\n",
    "\n",
    "print(\"Les vecteurs de bases du réseau direct a,b,c sont :\")\n",
    "print(vect_res_direct) \n",
    "print(\"\")\n",
    "print(\"Les longueurs des vecteurs de bases du réseau direct sont (en Å):\") \n",
    "print(length_vect_res_direct)\n",
    "print(\"\")\n",
    "print(\"Les vecteurs de bases du réseau réciproque a*, b*, c* sont :\")\n",
    "print(vect_res_recip)\n",
    "print(\"\")\n",
    "print(\"Les longueurs des vecteurs de bases du réseau réciproque sont (en Å):\")\n",
    "print(length_vect_res_recip)\n",
    "print(\"\")\n",
    "\n",
    "# Créer un objet SpacegroupAnalyzer\n",
    "SGAnalyser = SpacegroupAnalyzer(structure)\n",
    "\n",
    "# Type de maille\n",
    "type_maille = SGAnalyser.get_lattice_type()\n",
    "\n",
    "# Système cristallin\n",
    "syst_cristal = SGAnalyser.get_crystal_system() \n",
    "\n",
    "# Groupe ponctuel \n",
    "group_ponctuel = SGAnalyser.get_point_group_symbol()\n",
    "\n",
    "\n",
    "print(\"Le type de maille est :\", type_maille)\n",
    "print(\"\")\n",
    "print(\"Le système cristallin est :\", syst_cristal)\n",
    "print(\"\")\n",
    "print(\"Le groupe ponctuel est :\", group_ponctuel) \n",
    "print(\"\")\n",
    "print(\"Ces résultats peuvent être vérifié sur  : Materials Project - https://materialsproject.org/materials/mp-8880/ \")    "
   ]
  },
  {
   "cell_type": "code",
   "execution_count": 1,
   "metadata": {},
   "outputs": [
    {
     "name": "stdout",
     "output_type": "stream",
     "text": [
      "Références :\n",
      "------------\n",
      "* LMAPR1492 : Physiques des matériaux - https://moodleucl.uclouvain.be/course/view.php?id=7353\n",
      "* Pymatgen : https://pymatgen.org/usage.html?fbclid=IwAR2AnLq_gW-VnqEG7-i42wszUE8sytOJDK790cZQnyq8xfKaoVxDYFml04o#pymatgen-matproj-rest-integration-with-the-materials-project-rest-api\n",
      "* Materials Project - https://materialsproject.org/materials/mp-8880/\n"
     ]
    }
   ],
   "source": [
    "print(\"Références :\")\n",
    "print(\"------------\")\n",
    "\n",
    "print(\"* LMAPR1492 : Physiques des matériaux - https://moodleucl.uclouvain.be/course/view.php?id=7353\")\n",
    "print(\"* Pymatgen : https://pymatgen.org/usage.html?fbclid=IwAR2AnLq_gW-VnqEG7-i42wszUE8sytOJDK790cZQnyq8xfKaoVxDYFml04o#pymatgen-matproj-rest-integration-with-the-materials-project-rest-api\")\n",
    "print(\"* Materials Project - https://materialsproject.org/materials/mp-8880/\")"
   ]
  },
  {
   "cell_type": "code",
   "execution_count": null,
   "metadata": {},
   "outputs": [],
   "source": []
  }
 ],
 "metadata": {
  "kernelspec": {
   "display_name": "Python 3",
   "language": "python",
   "name": "python3"
  },
  "language_info": {
   "codemirror_mode": {
    "name": "ipython",
    "version": 3
   },
   "file_extension": ".py",
   "mimetype": "text/x-python",
   "name": "python",
   "nbconvert_exporter": "python",
   "pygments_lexer": "ipython3",
   "version": "3.6.8"
  }
 },
 "nbformat": 4,
 "nbformat_minor": 2
}
